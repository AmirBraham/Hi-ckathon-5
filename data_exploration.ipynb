{
 "cells": [
  {
   "cell_type": "code",
   "execution_count": null,
   "id": "5c1b3b34-198d-4a4b-8106-ea242fee0ff2",
   "metadata": {},
   "outputs": [],
   "source": [
    "#import libraries\n",
    "import pandas as pd\n",
    "import numpy as np\n",
    "from pandas.api.types import is_string_dtype\n",
    "from pandas.api.types import is_numeric_dtype\n",
    "import matplotlib.pyplot as plt\n",
    "import statistics\n",
    "from datetime import datetime\n",
    "import seaborn as sns"
   ]
  },
  {
   "cell_type": "code",
   "execution_count": null,
   "id": "4b810515",
   "metadata": {},
   "outputs": [],
   "source": [
    "#file path\n",
    "my_path=\"C:/Users/Annek/Documents/semestre 1/h!ckaton/\""
   ]
  },
  {
   "cell_type": "code",
   "execution_count": null,
   "id": "f711526c",
   "metadata": {},
   "outputs": [],
   "source": [
    "#data caracteristics\n",
    "#create a function that determines the dataset caracteristics\n",
    "def caracteristics (dataset):\n",
    "    carac=pd.DataFrame(index=dataset.columns.tolist())\n",
    "  #Types de variables\n",
    "    carac['types']=dataset.dtypes.tolist()\n",
    "  #Number of modalities\n",
    "    modalites=[]\n",
    "    for i in dataset.columns.tolist():\n",
    "        modalites.append(len(set(dataset[i].tolist())))\n",
    "    carac['nombre de modalites']=modalites\n",
    "  #Number of missing values\n",
    "    missing_values=[]\n",
    "    for i in dataset.columns.tolist():\n",
    "        missing_values.append(dataset[i].isna().sum())\n",
    "    carac['number of missing values']=missing_values\n",
    "  #Proportion of missing values\n",
    "    prop_missing_values=[]\n",
    "    for i in dataset.columns.tolist():\n",
    "        prop_missing_values.append(round(((dataset[i].isna().sum()/dataset.shape[0])*100),1))\n",
    "    carac['Proportion number of missing values(%)']=prop_missing_values\n",
    "  #Mean\n",
    "    moyenne=[]\n",
    "    for i in dataset.columns.tolist():\n",
    "        if is_numeric_dtype(dataset[i])==True:\n",
    "            moyenne.append(dataset[i].mean())\n",
    "        else:\n",
    "            moyenne.append (np.nan)\n",
    "    carac['moyenne']=moyenne\n",
    "      #Maximum\n",
    "    maxim=[]\n",
    "    for i in dataset.columns.tolist():\n",
    "        if is_numeric_dtype(dataset[i])==True:\n",
    "            maxim.append(dataset[i].max())\n",
    "        else:\n",
    "            maxim.append (np.nan)\n",
    "    carac['maximum']=maxim\n",
    "      #Minimum\n",
    "    minim=[]\n",
    "    for i in dataset.columns.tolist():\n",
    "        if is_numeric_dtype(dataset[i])==True:\n",
    "            minim.append(dataset[i].min())\n",
    "        else:\n",
    "            minim.append (np.nan)\n",
    "    carac['minimum']=minim\n",
    "#Mode\n",
    "    mode=[]\n",
    "    for i in dataset.columns.tolist():\n",
    "        mode.append(statistics.mode(dataset[i].tolist()))\n",
    "    carac['mode']=mode\n",
    "    prop_mode=[]\n",
    "    for i in dataset.columns.tolist():\n",
    "        if pd.isna(carac.loc[i,\"mode\"])==False:\n",
    "            prop_mode.append(round((dataset[dataset[i]==carac.loc[i,\"mode\"]][i].value_counts().tolist()[0]/dataset[i].value_counts().sum())*100,1))\n",
    "        else:\n",
    "            prop_mode.append(round((dataset[i].isna().sum()/(dataset[i].value_counts().sum()+dataset[i].isna().sum()))*100,1))\n",
    "    carac['proportion mode (%)']=prop_mode\n",
    "\n",
    "#Afficher les caractéristiques\n",
    "    return carac"
   ]
  },
  {
   "cell_type": "code",
   "execution_count": null,
   "id": "547c2363",
   "metadata": {},
   "outputs": [],
   "source": [
    "chunksize = 100_000\n",
    "chunks = pd.read_csv(my_path+\"X_test_Hi5.csv\", chunksize=chunksize)\n",
    "# Example: Process the first chunk\n",
    "h= None\n",
    "for chunk in chunks:\n",
    "    h = chunk\n",
    "    carac=caracteristics(chunk)#observe characteristics for a chunk\n",
    "    break  # Stop after processing the first chunk\""
   ]
  },
  {
   "cell_type": "code",
   "execution_count": null,
   "id": "9fa1b6c1",
   "metadata": {},
   "outputs": [],
   "source": [
    "#Columns\n",
    "list(h.columns)"
   ]
  },
  {
   "cell_type": "code",
   "execution_count": null,
   "id": "5bc1f41e",
   "metadata": {},
   "outputs": [],
   "source": [
    "#Distribution of target variable\n",
    "h[\"piezo_groundwater_level_category\"].value_counts()/100000"
   ]
  },
  {
   "cell_type": "markdown",
   "id": "66966ee0",
   "metadata": {},
   "source": [
    "Dataset seems unbalanced with a minority of low and very low groundwaterlevel"
   ]
  },
  {
   "cell_type": "markdown",
   "id": "29688f0e",
   "metadata": {},
   "source": [
    "### Let's study \"piezo\" variables"
   ]
  },
  {
   "cell_type": "code",
   "execution_count": null,
   "id": "de14f8a7",
   "metadata": {},
   "outputs": [],
   "source": [
    "carac[carac.index.isin([\"piezo_station_investigation_depth\",\n",
    "\"piezo_station_altitude\",\n",
    "\"piezo_station_longitude\",\n",
    "\"piezo_station_latitude\",\n",
    "\"piezo_measurement_date\",\n",
    "\"piezo_obtention_mode\",\n",
    "\"piezo_status\",\n",
    "\"piezo_qualification\",\n",
    "\"piezo_continuity_code\",\n",
    "\"piezo_producer_name\",\n",
    "\"piezo_measure_nature_name\"\n",
    "])].sort_values(by=[\"Proportion number of missing values(%)\"],ascending=False)"
   ]
  },
  {
   "cell_type": "code",
   "execution_count": null,
   "id": "12820fe2",
   "metadata": {},
   "outputs": [],
   "source": [
    "#identify stations by coordinates:\n",
    "h[\"piezo_station_coordinates\"] = h.apply(\n",
    "    lambda row: f\"({row['piezo_station_longitude']}, {row['piezo_station_latitude']})\", axis=1\n",
    ")"
   ]
  },
  {
   "cell_type": "code",
   "execution_count": null,
   "id": "d5378741",
   "metadata": {},
   "outputs": [],
   "source": [
    "print(len(h[\"piezo_station_coordinates\"].unique()))\n",
    "print(h[h[\"piezo_continuity_code\"]==1].shape[0])"
   ]
  },
  {
   "cell_type": "markdown",
   "id": "da54f777",
   "metadata": {},
   "source": [
    "continuy_code is not a choronicle observable by station as the description mentions..."
   ]
  },
  {
   "cell_type": "code",
   "execution_count": null,
   "id": "2fede379",
   "metadata": {},
   "outputs": [],
   "source": [
    "print(len(h[h[\"piezo_continuity_code\"]==1][\"piezo_measurement_date\"].unique()))\n",
    "print(len(h[\"piezo_measurement_date\"].unique()))"
   ]
  },
  {
   "cell_type": "code",
   "execution_count": null,
   "id": "06a062a5",
   "metadata": {},
   "outputs": [],
   "source": [
    "continuity_code observable by measurement date?"
   ]
  },
  {
   "cell_type": "code",
   "execution_count": null,
   "id": "be87ff3e",
   "metadata": {},
   "outputs": [],
   "source": [
    "#Replacing missing values\n",
    "#let's add some features:\n",
    "#year\n",
    "h['piezo_measurement_date_year']=h[\"piezo_measurement_date\"].apply(lambda x:x.year)\n",
    "#Month\n",
    "h['piezo_measurement_date_month']=h[\"piezo_measurement_date\"].apply(lambda x:x.month)\n",
    "#remplace depth by mean of depth by station and observation period\n",
    "h[\"piezo_station_investigation_depth\"] = h.groupby([\"piezo_station_bss_code\", \"piezo_measurement_date_month\"])[\"piezo_station_investigation_depth\"].transform(\n",
    "    lambda x: x.fillna(x.mean()))\n"
   ]
  },
  {
   "cell_type": "code",
   "execution_count": null,
   "id": "694e5262",
   "metadata": {},
   "outputs": [],
   "source": [
    "#let's see\n",
    "caracs=caracteristics(h)\n",
    "caracs[caracs.index.isin([\"piezo_station_investigation_depth\",\n",
    "\"piezo_station_altitude\",\n",
    "\"piezo_station_longitude\",\n",
    "\"piezo_station_latitude\",\n",
    "\"piezo_measurement_date\",\n",
    "\"piezo_obtention_mode\",\n",
    "\"piezo_status\",\n",
    "\"piezo_qualification\",\n",
    "\"piezo_continuity_code\",\n",
    "\"piezo_producer_name\",\n",
    "\"piezo_measure_nature_name\",\"piezo_measurement_date_year\",\"piezo_measurement_date_month\"\n",
    "])].sort_values(by=[\"Proportion number of missing values(%)\"],ascending=False)"
   ]
  },
  {
   "cell_type": "markdown",
   "id": "7e00da47",
   "metadata": {},
   "source": [
    "Some stations did not observe piezometry for a whole month?"
   ]
  },
  {
   "cell_type": "code",
   "execution_count": 3,
   "id": "be195c72-d0fd-4c37-9c5f-bc4f70cb698d",
   "metadata": {},
   "outputs": [
    {
     "data": {
      "text/plain": [
       "['row_index',\n",
       " 'piezo_station_department_code',\n",
       " 'piezo_station_update_date',\n",
       " 'piezo_station_investigation_depth',\n",
       " 'piezo_station_department_name',\n",
       " 'piezo_station_commune_code_insee',\n",
       " 'piezo_station_pe_label',\n",
       " 'piezo_station_bdlisa_codes',\n",
       " 'piezo_station_altitude',\n",
       " 'piezo_station_bss_code',\n",
       " 'piezo_station_commune_name',\n",
       " 'piezo_station_longitude',\n",
       " 'piezo_station_latitude',\n",
       " 'piezo_station_bss_id',\n",
       " 'piezo_bss_code',\n",
       " 'piezo_measurement_date',\n",
       " 'piezo_obtention_mode',\n",
       " 'piezo_status',\n",
       " 'piezo_qualification',\n",
       " 'piezo_continuity_code',\n",
       " 'piezo_continuity_name',\n",
       " 'piezo_producer_code',\n",
       " 'piezo_producer_name',\n",
       " 'piezo_measure_nature_code',\n",
       " 'piezo_measure_nature_name',\n",
       " 'meteo_id',\n",
       " 'meteo_name',\n",
       " 'meteo_latitude',\n",
       " 'meteo_longitude',\n",
       " 'meteo_altitude',\n",
       " 'meteo_date',\n",
       " 'meteo_rain_height',\n",
       " 'meteo_DRR',\n",
       " 'meteo_temperature_min',\n",
       " 'meteo_time_tn',\n",
       " 'meteo_temperature_max',\n",
       " 'meteo_time_tx',\n",
       " 'meteo_temperature_avg',\n",
       " 'meteo_temperature_avg_threshold',\n",
       " 'meteo_temperature_min_ground',\n",
       " 'meteo_temperature_min_50cm',\n",
       " 'meteo_frost_duration',\n",
       " 'meteo_amplitude_tn_tx',\n",
       " 'meteo_temperature_avg_tntm',\n",
       " 'meteo_pressure_avg',\n",
       " 'meteo_pression_maxi',\n",
       " 'meteo_wind_speed_avg_10m',\n",
       " 'meteo_wind_max',\n",
       " 'meteo_wind_direction_max_inst',\n",
       " 'meteo_time_wind_max',\n",
       " 'meteo_wind_avg',\n",
       " 'meteo_wind_direction_max_avg',\n",
       " 'meteo_time_wind_avg',\n",
       " 'meteo_wind_speed_avg_2m',\n",
       " 'meteo_wind_max_2m',\n",
       " 'meteo_wind_direction_max_inst_2m',\n",
       " 'meteo_time_wind_max_2m',\n",
       " 'meteo_wind_max_3s',\n",
       " 'meteo_time_wind_max_3s',\n",
       " 'meteo_humidity_min',\n",
       " 'meteo_time_humidity_min',\n",
       " 'meteo_humidity_max',\n",
       " 'meteo_time_humidity_max',\n",
       " 'meteo_humidity_duration_below_40%',\n",
       " 'meteo_humidity_duration_above_80%',\n",
       " 'meteo__pressure_saturation_avg',\n",
       " 'meteo_wetting_duration',\n",
       " 'meteo_humidity_avg',\n",
       " 'meteo_sunshine_duration',\n",
       " 'meteo_radiation',\n",
       " 'meteo_radiation_direct',\n",
       " 'meteo_sunshine_%',\n",
       " 'meteo_radiation_IR',\n",
       " 'meteo_radiation_UV_max',\n",
       " 'meteo_cloudiness',\n",
       " 'meteo_cloudiness_height',\n",
       " 'meteo_if_snow',\n",
       " 'meteo_if_fog',\n",
       " 'meteo_if_thunderstorm',\n",
       " 'meteo_if_sleet',\n",
       " 'meteo_if_hail',\n",
       " 'meteo_if_dew',\n",
       " 'meteo_if_black_ice',\n",
       " 'meteo_if_snow_ground',\n",
       " 'meteo_if_frost',\n",
       " 'meteo_if_smoke',\n",
       " 'meteo_if_mist',\n",
       " 'meteo_if_lightning',\n",
       " 'meteo_evapotranspiration_Monteith',\n",
       " 'meteo_evapotranspiration_grid',\n",
       " 'meteo_radiation_UV',\n",
       " 'meteo_snow_height',\n",
       " 'meteo_snow_thickness_max',\n",
       " 'meteo_snow_thickness_6h',\n",
       " 'distance_piezo_meteo',\n",
       " 'hydro_station_code',\n",
       " 'hydro_observation_date_elab',\n",
       " 'hydro_observation_result_elab',\n",
       " 'hydro_status_code',\n",
       " 'hydro_status_label',\n",
       " 'hydro_method_code',\n",
       " 'hydro_method_label',\n",
       " 'hydro_qualification_code',\n",
       " 'hydro_qualification_label',\n",
       " 'hydro_longitude',\n",
       " 'hydro_latitude',\n",
       " 'hydro_hydro_quantity_elab',\n",
       " 'distance_piezo_hydro',\n",
       " 'prelev_structure_code_0',\n",
       " 'prelev_volume_0',\n",
       " 'prelev_usage_label_0',\n",
       " 'prelev_volume_obtention_mode_label_0',\n",
       " 'prelev_longitude_0',\n",
       " 'prelev_latitude_0',\n",
       " 'prelev_commune_code_insee_0',\n",
       " 'prelev_structure_code_1',\n",
       " 'prelev_volume_1',\n",
       " 'prelev_usage_label_1',\n",
       " 'prelev_volume_obtention_mode_label_1',\n",
       " 'prelev_longitude_1',\n",
       " 'prelev_latitude_1',\n",
       " 'prelev_commune_code_insee_1',\n",
       " 'prelev_structure_code_2',\n",
       " 'prelev_volume_2',\n",
       " 'prelev_usage_label_2',\n",
       " 'prelev_volume_obtention_mode_label_2',\n",
       " 'prelev_longitude_2',\n",
       " 'prelev_latitude_2',\n",
       " 'prelev_commune_code_insee_2',\n",
       " 'prelev_other_volume_sum',\n",
       " 'insee_%_agri',\n",
       " 'insee_pop_commune',\n",
       " 'insee_med_living_level',\n",
       " 'insee_%_ind',\n",
       " 'insee_%_const',\n",
       " 'piezo_groundwater_level_category']"
      ]
     },
     "execution_count": 3,
     "metadata": {},
     "output_type": "execute_result"
    }
   ],
   "source": [
    "list(h.columns)"
   ]
  },
  {
   "cell_type": "code",
   "execution_count": null,
   "id": "bdad872b-d755-452f-a187-109c9c7c5a2e",
   "metadata": {},
   "outputs": [],
   "source": []
  }
 ],
 "metadata": {
  "kernelspec": {
   "display_name": "Python 3 (ipykernel)",
   "language": "python",
   "name": "python3"
  },
  "language_info": {
   "codemirror_mode": {
    "name": "ipython",
    "version": 3
   },
   "file_extension": ".py",
   "mimetype": "text/x-python",
   "name": "python",
   "nbconvert_exporter": "python",
   "pygments_lexer": "ipython3",
   "version": "3.11.10"
  }
 },
 "nbformat": 4,
 "nbformat_minor": 5
}
